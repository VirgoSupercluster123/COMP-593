{
  "nbformat": 4,
  "nbformat_minor": 0,
  "metadata": {
    "colab": {
      "name": "Comp 593 Lab #7 - Jonathan Daly.ipynb",
      "provenance": [],
      "authorship_tag": "ABX9TyP3/vGdeOFgb8PX6g1RWtu7",
      "include_colab_link": true
    },
    "kernelspec": {
      "name": "python3",
      "display_name": "Python 3"
    },
    "language_info": {
      "name": "python"
    }
  },
  "cells": [
    {
      "cell_type": "markdown",
      "metadata": {
        "id": "view-in-github",
        "colab_type": "text"
      },
      "source": [
        "<a href=\"https://colab.research.google.com/github/VirgoSupercluster123/COMP-593/blob/main/Comp_593_Lab_7_Jonathan_Daly.ipynb\" target=\"_parent\"><img src=\"https://colab.research.google.com/assets/colab-badge.svg\" alt=\"Open In Colab\"/></a>"
      ]
    },
    {
      "cell_type": "code",
      "execution_count": 27,
      "metadata": {
        "colab": {
          "base_uri": "https://localhost:8080/"
        },
        "id": "i3-e-fPHuztC",
        "outputId": "0cab2d34-ee1b-4cfb-dcac-97e6fd1c8c8d"
      },
      "outputs": [
        {
          "output_type": "stream",
          "name": "stdout",
          "text": [
            "[{'title': 'The Matrix', 'genre': 'Scifi'}, {'title': '300', 'genre': 'War'}, {'title': 'Austin Powers', 'genre': 'Comedy'}]\n",
            "['Pepperoni', 'Sausage', 'Bacon', ('Green Pepper', 'Tomato', 'Onion')]\n"
          ]
        }
      ],
      "source": [
        "def main():\n",
        "\n",
        "    #This section of the code creates a dictionary with the information request that the table requested.\n",
        "    information = {\n",
        "        'name': 'Jonathan Daly', \n",
        "        'student_id': 10257468,\n",
        "        'pizza_toppings': [\n",
        "            'Pepperoni',\n",
        "            'Sausage',\n",
        "            'Bacon'\n",
        "        ],\n",
        "        'movies': [\n",
        "            {'title': 'The Matrix',\n",
        "             'genre': 'Scifi',\n",
        "             },\n",
        "             {'title': '300',\n",
        "              'genre': 'War', \n",
        "              }\n",
        "        ]\n",
        "    }  \n",
        "\n",
        "    #Here a new list is created and then added to the list of movies in the dictionary.\n",
        "    third_movie = {'title': 'Austin Powers', 'genre': 'Comedy'}\n",
        "    information['movies'].append(third_movie)\n",
        "\n",
        "    print(information['movies'])\n",
        "\n",
        "    toppings = (\"Green Pepper\", \"Tomato\", \"Onion\")\n",
        "    pizza(information, toppings)\n",
        "\n",
        "def pizza(information, toppings):\n",
        "    information['pizza_toppings'].append(toppings)\n",
        "    print(information['pizza_toppings'])\n",
        "\n",
        "main()"
      ]
    }
  ]
}