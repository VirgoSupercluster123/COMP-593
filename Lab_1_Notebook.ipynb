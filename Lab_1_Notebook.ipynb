{
  "nbformat": 4,
  "nbformat_minor": 0,
  "metadata": {
    "colab": {
      "name": "WEEK 1 WELCOME TO COLAB",
      "provenance": [],
      "collapsed_sections": [],
      "toc_visible": true,
      "include_colab_link": true
    },
    "kernelspec": {
      "display_name": "Python 3",
      "name": "python3"
    }
  },
  "cells": [
    {
      "cell_type": "markdown",
      "metadata": {
        "id": "view-in-github",
        "colab_type": "text"
      },
      "source": [
        "<a href=\"https://colab.research.google.com/github/VirgoSupercluster123/COMP-593/blob/main/Lab_1_Notebook.ipynb\" target=\"_parent\"><img src=\"https://colab.research.google.com/assets/colab-badge.svg\" alt=\"Open In Colab\"/></a>"
      ]
    },
    {
      "cell_type": "markdown",
      "metadata": {
        "id": "GJBs_flRovLc"
      },
      "source": [
        "## **Welcome to COMP 593!**\n",
        "\n",
        "For your first lab, we will experiment with running a script, and saving our project to our personal github repositories:"
      ]
    },
    {
      "cell_type": "markdown",
      "metadata": {
        "id": "xn279PBwVnDj"
      },
      "source": [
        "##Installing Dependancies##\n",
        "\n",
        "Dependancies are routines, Objects, and methods that a project requires. We add Dependancies to our project in the form of **Libraries** when we want to unlock functionality that already exists, this could be as simple as file IO or as complex as fully fledged Machine Learning libraries. Libraries can be added to our project manually, by downloading them and placing them in our runtime enviornment, or using a **Package Manager** such as PIP."
      ]
    },
    {
      "cell_type": "markdown",
      "metadata": {
        "id": "-IWb3REjW5T0"
      },
      "source": [
        "Run the below code to download the **pyfiglet** library, which we will use to generate some ASCII art."
      ]
    },
    {
      "cell_type": "code",
      "metadata": {
        "id": "ARUZhh6MS7nA",
        "colab": {
          "base_uri": "https://localhost:8080/"
        },
        "outputId": "53d52076-52b8-49c6-a6cd-e28396dcda63"
      },
      "source": [
        "pip install pyfiglet"
      ],
      "execution_count": 1,
      "outputs": [
        {
          "output_type": "stream",
          "name": "stdout",
          "text": [
            "Collecting pyfiglet\n",
            "  Downloading pyfiglet-0.8.post1-py2.py3-none-any.whl (865 kB)\n",
            "\u001b[K     |████████████████████████████████| 865 kB 4.2 MB/s \n",
            "\u001b[?25hInstalling collected packages: pyfiglet\n",
            "Successfully installed pyfiglet-0.8.post1\n"
          ]
        }
      ]
    },
    {
      "cell_type": "markdown",
      "metadata": {
        "id": "SNXKhb5XXqF4"
      },
      "source": [
        "There are *hundreds of thousands* of python libraries at your disposal. Some may suit your needs better than others depending on the goals of your scripts or applications. The [PyPi Repository](https://pypi.org/) contains a serchable database of packages that are installable via the pip package manager.\n",
        "\n",
        "Run the code below to get an idea of the number of packages that are included for your user within Colab. You don't need to know what all of these do, but it should indicate that python is a very powerful language."
      ]
    },
    {
      "cell_type": "code",
      "metadata": {
        "id": "C7A8viiJXiDs"
      },
      "source": [
        "pip list"
      ],
      "execution_count": null,
      "outputs": []
    },
    {
      "cell_type": "markdown",
      "metadata": {
        "id": "zopYZ3PcY6hR"
      },
      "source": [
        "If you would like to see if pyfiglet was installed, you could scan the list above, or you could **pipe** the output of `pip list` to a console command known as `grep` that will filter for specific strings. This is an example of **redirecting output,** which you have learned about already.\n",
        "\n",
        "\n"
      ]
    },
    {
      "cell_type": "code",
      "metadata": {
        "id": "oAMcMjbLZMIE",
        "colab": {
          "base_uri": "https://localhost:8080/"
        },
        "outputId": "2cc2c1c5-c28b-4aba-c32e-149d9a8b266e"
      },
      "source": [
        "pip list | grep pyfiglet"
      ],
      "execution_count": 3,
      "outputs": [
        {
          "output_type": "stream",
          "name": "stdout",
          "text": [
            "pyfiglet                      0.8.post1\n"
          ]
        }
      ]
    },
    {
      "cell_type": "markdown",
      "metadata": {
        "id": "gt5dp771Yc2c"
      },
      "source": [
        "# Writing Our Script"
      ]
    },
    {
      "cell_type": "markdown",
      "metadata": {
        "id": "Hh36394HaB3g"
      },
      "source": [
        "The intention of this Colab introduction is to get you familiar with using google Colab to accomplish scripting goals. Today, we will be using the `pyfiglet` library we have just installed to output some text. To understand the methods available to us in `pyfiglet` we can look up [the github repository.](https://github.com/pwaller/pyfiglet)\n",
        "\n",
        "***Remember: Since open source packages are at the mercy of their developers or maintainers, comprehensive documentation is never a guarantee.***\n",
        "\n",
        "The help documentation outlines a command line `--help` argument, which means that documentation exists. We can't call command line arguments for imported libraries in colab, but we *can* accomplish the same goal in colab by using the python `help([Object])` function."
      ]
    },
    {
      "cell_type": "code",
      "metadata": {
        "id": "zR6mZpfkgRxd",
        "colab": {
          "base_uri": "https://localhost:8080/"
        },
        "outputId": "0f483d7b-2f18-4b50-c222-d9c3ce3d559a"
      },
      "source": [
        "from pyfiglet import Figlet\n",
        "\n",
        "help(Figlet)"
      ],
      "execution_count": 4,
      "outputs": [
        {
          "output_type": "stream",
          "name": "stdout",
          "text": [
            "Help on class Figlet in module pyfiglet:\n",
            "\n",
            "class Figlet(builtins.object)\n",
            " |  Figlet(font='standard', direction='auto', justify='auto', width=80)\n",
            " |  \n",
            " |  Main figlet class.\n",
            " |  \n",
            " |  Methods defined here:\n",
            " |  \n",
            " |  __init__(self, font='standard', direction='auto', justify='auto', width=80)\n",
            " |      Initialize self.  See help(type(self)) for accurate signature.\n",
            " |  \n",
            " |  getDirection(self)\n",
            " |  \n",
            " |  getFonts(self)\n",
            " |  \n",
            " |  getJustify(self)\n",
            " |  \n",
            " |  renderText(self, text)\n",
            " |  \n",
            " |  setFont(self, **kwargs)\n",
            " |  \n",
            " |  ----------------------------------------------------------------------\n",
            " |  Data descriptors defined here:\n",
            " |  \n",
            " |  __dict__\n",
            " |      dictionary for instance variables (if defined)\n",
            " |  \n",
            " |  __weakref__\n",
            " |      list of weak references to the object (if defined)\n",
            " |  \n",
            " |  direction\n",
            " |  \n",
            " |  justify\n",
            "\n"
          ]
        }
      ]
    },
    {
      "cell_type": "code",
      "source": [
        "from pyfiglet import Figlet\n",
        "\n",
        "fonts = f.getFonts()\n",
        "\n",
        "for font in fonts:\n",
        "  print(font)"
      ],
      "metadata": {
        "colab": {
          "base_uri": "https://localhost:8080/"
        },
        "id": "vbXCsWXcG01W",
        "outputId": "10e8a71b-dacb-4113-9d94-cdc100371390"
      },
      "execution_count": 20,
      "outputs": [
        {
          "output_type": "stream",
          "name": "stdout",
          "text": [
            "katakana\n",
            "future_5\n",
            "coil_cop\n",
            "asslt__m\n",
            "pyramid\n",
            "clr8x8\n",
            "britei\n",
            "rally_s2\n",
            "ebbs_2__\n",
            "epic\n",
            "cricket\n",
            "green_be\n",
            "fp2_____\n",
            "hills___\n",
            "sans\n",
            "charact1\n",
            "notie_ca\n",
            "char1___\n",
            "mini\n",
            "timesofl\n",
            "ticks\n",
            "chartr\n",
            "grand_pr\n",
            "charact6\n",
            "smslant\n",
            "letterw3\n",
            "stampatello\n",
            "jazmine\n",
            "xcourb\n",
            "battle_s\n",
            "tec1____\n",
            "radical_\n",
            "italic\n",
            "charset_\n",
            "home_pak\n",
            "mig_ally\n",
            "fraktur\n",
            "rev\n",
            "lazy_jon\n",
            "italics_\n",
            "bubble_b\n",
            "panther_\n",
            "shadow\n",
            "marquee\n",
            "c_ascii_\n",
            "greek\n",
            "utopia\n",
            "a_zooloo\n",
            "binary\n",
            "c2______\n",
            "twin_cob\n",
            "cursive\n",
            "top_duck\n",
            "stacey\n",
            "char4___\n",
            "xsansbi\n",
            "magic_ma\n",
            "battlesh\n",
            "nancyj-underlined\n",
            "xbritebi\n",
            "kik_star\n",
            "gauntlet\n",
            "term\n",
            "xbriteb\n",
            "rectangles\n",
            "pepper\n",
            "tsm_____\n",
            "speed\n",
            "fbr2____\n",
            "future_6\n",
            "eca_____\n",
            "demo_1__\n",
            "demo_m__\n",
            "alligator\n",
            "arrows\n",
            "helvi\n",
            "eftipiti\n",
            "colossal\n",
            "hypa_bal\n",
            "3-d\n",
            "assalt_m\n",
            "spc_demo\n",
            "xhelvi\n",
            "sblood\n",
            "fairligh\n",
            "street_s\n",
            "cybermedium\n",
            "serifcap\n",
            "letters\n",
            "pebbles\n",
            "xsbookb\n",
            "p_skateb\n",
            "xsans\n",
            "utopiab\n",
            "bulbhead\n",
            "banner3\n",
            "triad_st\n",
            "weird\n",
            "ok_beer_\n",
            "linux\n",
            "rally_sp\n",
            "super_te\n",
            "barbwire\n",
            "ripper!_\n",
            "calgphy2\n",
            "mayhem_d\n",
            "future_4\n",
            "fp1_____\n",
            "flyn_sh\n",
            "peaks\n",
            "stencil2\n",
            "graffiti\n",
            "morse\n",
            "ivrit\n",
            "64f1____\n",
            "roman___\n",
            "chartri\n",
            "utopiabi\n",
            "demo_2__\n",
            "puffy\n",
            "rastan__\n",
            "tecrvs__\n",
            "hyper___\n",
            "caus_in_\n",
            "slant\n",
            "clr6x10\n",
            "rok_____\n",
            "basic\n",
            "sketch_s\n",
            "bell\n",
            "unarmed_\n",
            "clr7x8\n",
            "mirror\n",
            "tubular\n",
            "o8\n",
            "d_dragon\n",
            "lcd\n",
            "funky_dr\n",
            "isometric4\n",
            "lexible_\n",
            "joust___\n",
            "fbr_stri\n",
            "dotmatrix\n",
            "advenger\n",
            "raw_recu\n",
            "vortron_\n",
            "larry3d\n",
            "fireing_\n",
            "char3___\n",
            "sbooki\n",
            "pawp\n",
            "broadway\n",
            "sm______\n",
            "master_o\n",
            "relief2\n",
            "britebi\n",
            "eftiwater\n",
            "cybersmall\n",
            "c1______\n",
            "fair_mea\n",
            "wavy\n",
            "fbr12___\n",
            "new_asci\n",
            "courbi\n",
            "charact2\n",
            "atc_gran\n",
            "clr5x8\n",
            "charact3\n",
            "eftiwall\n",
            "straight\n",
            "banner\n",
            "tanja\n",
            "t__of_ap\n",
            "char2___\n",
            "thin\n",
            "aquaplan\n",
            "rowancap\n",
            "smshadow\n",
            "etcrvs__\n",
            "cosmic\n",
            "xsbook\n",
            "letter_w\n",
            "zone7___\n",
            "rot13\n",
            "fender\n",
            "gothic__\n",
            "fuzzy\n",
            "platoon2\n",
            "stencil1\n",
            "pawn_ins\n",
            "4x4_offr\n",
            "sansb\n",
            "tav1____\n",
            "helvb\n",
            "future_3\n",
            "high_noo\n",
            "devilish\n",
            "decimal\n",
            "helv\n",
            "cli8x8\n",
            "druid___\n",
            "ttyb\n",
            "tsn_base\n",
            "beer_pub\n",
            "clr7x10\n",
            "f15_____\n",
            "ticksslant\n",
            "script\n",
            "fantasy_\n",
            "xsansi\n",
            "tec_7000\n",
            "house_of\n",
            "rozzo\n",
            "stellar\n",
            "type_set\n",
            "kgames_i\n",
            "isometric2\n",
            "fbr_tilt\n",
            "outrun__\n",
            "helvbi\n",
            "xcouri\n",
            "double\n",
            "relief\n",
            "drpepper\n",
            "5x8\n",
            "subteran\n",
            "utopiai\n",
            "threepoint\n",
            "contessa\n",
            "xtimes\n",
            "sansbi\n",
            "yie_ar_k\n",
            "slide\n",
            "clr4x6\n",
            "charact5\n",
            "diamond\n",
            "catwalk\n",
            "digital\n",
            "bubble__\n",
            "shimrod\n",
            "script__\n",
            "hollywood\n",
            "ugalympi\n",
            "tombstone\n",
            "mshebrew210\n",
            "rampage_\n",
            "lockergnome\n",
            "xsbookbi\n",
            "univers\n",
            "clr8x10\n",
            "computer\n",
            "ascii___\n",
            "mad_nurs\n",
            "goofy\n",
            "xsansb\n",
            "tty\n",
            "madrid\n",
            "clr6x6\n",
            "rainbow_\n",
            "isometric1\n",
            "rci_____\n",
            "acrobatic\n",
            "clr6x8\n",
            "xbritei\n",
            "platoon_\n",
            "xhelvbi\n",
            "xchartri\n",
            "clb8x8\n",
            "runic\n",
            "xhelv\n",
            "big\n",
            "contrast\n",
            "5x7\n",
            "nfi1____\n",
            "xtty\n",
            "taxi____\n",
            "gothic\n",
            "finalass\n",
            "skateroc\n",
            "ts1_____\n",
            "alligator2\n",
            "characte\n",
            "clb6x10\n",
            "6x9\n",
            "xbrite\n",
            "war_of_w\n",
            "smkeyboard\n",
            "isometric3\n",
            "lean\n",
            "tengwar\n",
            "short\n",
            "gradient\n",
            "yie-ar__\n",
            "modern__\n",
            "starwars\n",
            "alphabet\n",
            "heroboti\n",
            "eftichess\n",
            "tsalagi\n",
            "fourtops\n",
            "mnemonic\n",
            "mcg_____\n",
            "caligraphy\n",
            "times\n",
            "stealth_\n",
            "npn_____\n",
            "xttyb\n",
            "clr5x6\n",
            "usa_pq__\n",
            "xchartr\n",
            "1943____\n",
            "smisome1\n",
            "xsbooki\n",
            "zig_zag_\n",
            "clb8x10\n",
            "nvscript\n",
            "smscript\n",
            "nancyj\n",
            "rad_phan\n",
            "heavy_me\n",
            "usaflag\n",
            "smtengwar\n",
            "invita\n",
            "runyc\n",
            "cosmike\n",
            "inc_raw_\n",
            "clr5x10\n",
            "cour\n",
            "sbook\n",
            "dcs_bfmo\n",
            "ebbs_1__\n",
            "baz__bil\n",
            "ti_pan__\n",
            "rockbox_\n",
            "ghost_bo\n",
            "skateord\n",
            "krak_out\n",
            "doh\n",
            "courb\n",
            "xcourbi\n",
            "tomahawk\n",
            "road_rai\n",
            "future_1\n",
            "eftirobot\n",
            "crawford\n",
            "moscow\n",
            "eftifont\n",
            "couri\n",
            "dwhistled\n",
            "tiles\n",
            "graceful\n",
            "coinstak\n",
            "pacos_pe\n",
            "trek\n",
            "defleppard\n",
            "twopoint\n",
            "6x10\n",
            "p_s_h_m_\n",
            "bigchief\n",
            "b_m__200\n",
            "faces_of\n",
            "doom\n",
            "jerusalem\n",
            "sbookbi\n",
            "trashman\n",
            "whimsy\n",
            "slscript\n",
            "tinker-toy\n",
            "odel_lak\n",
            "os2\n",
            "star_war\n",
            "maxfour\n",
            "brite\n",
            "ucf_fan_\n",
            "skate_ro\n",
            "small\n",
            "xcour\n",
            "avatar\n",
            "mike\n",
            "deep_str\n",
            "block\n",
            "nancyj-fancy\n",
            "future_7\n",
            "xhelvb\n",
            "com_sen_\n",
            "asc_____\n",
            "fbr1____\n",
            "rounded\n",
            "roman\n",
            "standard\n",
            "future_8\n",
            "rad_____\n",
            "atc_____\n",
            "kban\n",
            "hades___\n",
            "chunky\n",
            "octal\n",
            "convoy__\n",
            "e__fist_\n",
            "sansi\n",
            "briteb\n",
            "space_op\n",
            "5lineoblique\n",
            "usa_____\n",
            "banner4\n",
            "pod_____\n",
            "thick\n",
            "sbookb\n",
            "3x5\n",
            "bubble\n",
            "ogre\n",
            "poison\n",
            "r2-d2___\n",
            "cyberlarge\n",
            "z-pilot_\n",
            "charact4\n",
            "c_consen\n",
            "future_2\n",
            "banner3-D\n",
            "hex\n",
            "ntgreek\n",
            "nipples\n",
            "eftitalic\n",
            "stop\n",
            "phonix__\n"
          ]
        }
      ]
    },
    {
      "cell_type": "code",
      "source": [
        "from pyfiglet import Figlet\n",
        "\n",
        "f = Figlet()\n",
        "f.setFont(font=\"thick\")\n",
        "word_art = f.renderText('Darn truckers')\n",
        "print(word_art)\n",
        "\n",
        "#num_fonts = len(fonts)\n",
        "#print(\"There are\", num_fonts, \"fonts in Figlet.\")"
      ],
      "metadata": {
        "colab": {
          "base_uri": "https://localhost:8080/"
        },
        "id": "bW53iqhI8MWy",
        "outputId": "ae43a0fe-28eb-4fba-f437-200b65441ad8"
      },
      "execution_count": 24,
      "outputs": [
        {
          "output_type": "stream",
          "name": "stdout",
          "text": [
            "8888            8    \n",
            "8www 8   8 .d8b 8.dP \n",
            "8    8b d8 8    88b  \n",
            "8    `Y8P8 `Y8P 8 Yb \n",
            "                     \n",
            "\n"
          ]
        }
      ]
    },
    {
      "cell_type": "markdown",
      "metadata": {
        "id": "UxKlfQJrmq4N"
      },
      "source": [
        "Using this function we can see that the `Figlet` object has several methods available. This will bring us to your task:\n",
        "\n",
        "\n",
        "**In the editor below, finish a script that accomplishes the following goals:**\n",
        "\n",
        "1.   Prompt the user to select from a list of 5 fonts.\n",
        "2.   Prompt the user to input the string they would like output in that font.\n",
        "3.   Render the text using the selected font.\n",
        "\n",
        "*Hint:* Call the `getFonts()` method to get a list of the available fonts."
      ]
    },
    {
      "cell_type": "code",
      "metadata": {
        "id": "b2y8sufRoEpR",
        "colab": {
          "base_uri": "https://localhost:8080/"
        },
        "outputId": "e9fd7dd5-7042-45b9-b8b2-3115ea038e78"
      },
      "source": [
        "from pyfiglet import Figlet\n",
        "\n",
        "# Instantiate a Figlet Object\n",
        "figlet = Figlet()\n",
        "\n",
        "# Prompt the user to select a font\n",
        "selectedFont = input(\"Select a font: \\n 1. space_op \\n 2. nancyj-fancy \\n 3. caligraphy \\n 4. thick \\n >>> \")\n",
        "\n",
        "# Set the selected font\n",
        "if selectedFont == 1:\n",
        "  font_in_use = f.setFont(font=\"space_op\")\n",
        "elif selectedFont == 2:\n",
        "  font_in_use = f.setFont(font=\"nancyj-fancy\")\n",
        "elif selectedFont == 3:\n",
        "  font_in_use = f.setFont(font=\"caligraphy\")\n",
        "else:\n",
        "  font_in_use = f.setFont(font=\"thick\")\n",
        "\n",
        "# Prompt the user to type a message\n",
        "user_message = f.renderText(input(\"\\nType the message you want to be displayed. \"))\n",
        "\n",
        "# Print the message in the selected font\n",
        "print(\"\\n\", user_message)"
      ],
      "execution_count": 36,
      "outputs": [
        {
          "output_type": "stream",
          "name": "stdout",
          "text": [
            "Select a font: \n",
            " 1. space_op \n",
            " 2. nancyj-fancy \n",
            " 3. caligraphy \n",
            " 4. thick \n",
            " >>> 4\n",
            "\n",
            "Type the message you want to be displayed. shit\n",
            "\n",
            "      8     w  w   \n",
            "d88b 8d8b. w w8ww \n",
            "`Yb. 8P Y8 8  8   \n",
            "Y88P 8   8 8  Y8P \n",
            "                  \n",
            "\n"
          ]
        }
      ]
    },
    {
      "cell_type": "markdown",
      "metadata": {
        "id": "wXiyORkQqUfz"
      },
      "source": [
        "# Submitting your Script"
      ]
    },
    {
      "cell_type": "markdown",
      "metadata": {
        "id": "eUMXNhytqZY6"
      },
      "source": [
        "Once you have succesfully completed your script, make sure to save it to your github account. (Take a look [at the official colab instructions](https://colab.research.google.com/github/googlecolab/colabtools/blob/master/notebooks/colab-github-demo.ipynb) if you need a refresher.)"
      ]
    }
  ]
}