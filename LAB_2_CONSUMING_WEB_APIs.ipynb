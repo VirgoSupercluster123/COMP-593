{
  "nbformat": 4,
  "nbformat_minor": 0,
  "metadata": {
    "colab": {
      "name": "LAB 2: CONSUMING WEB APIs",
      "provenance": [],
      "toc_visible": true,
      "include_colab_link": true
    },
    "kernelspec": {
      "name": "python3",
      "display_name": "Python 3"
    }
  },
  "cells": [
    {
      "cell_type": "markdown",
      "metadata": {
        "id": "view-in-github",
        "colab_type": "text"
      },
      "source": [
        "<a href=\"https://colab.research.google.com/github/VirgoSupercluster123/COMP-593/blob/main/LAB_2_CONSUMING_WEB_APIs.ipynb\" target=\"_parent\"><img src=\"https://colab.research.google.com/assets/colab-badge.svg\" alt=\"Open In Colab\"/></a>"
      ]
    },
    {
      "cell_type": "markdown",
      "metadata": {
        "id": "EoKZy-QeYU0_"
      },
      "source": [
        "#LAB 2: CONSUMING WEB APIs"
      ]
    },
    {
      "cell_type": "markdown",
      "metadata": {
        "id": "ayyh7BuRYfJo"
      },
      "source": [
        "## Making Network Requests\n",
        "To experiment with consuming web APIs, we are going to use a python Library that will allow us to make HTTP requests. There are several options out there, some are more popular than others. The standard choice would be the [requests](https://2.python-requests.org/en/master/) library, but for the purposes of educating you on the finer points of HTTP Messages, we will be utilizing the [http.client](https://docs.python.org/3/library/http.client.html) library."
      ]
    },
    {
      "cell_type": "markdown",
      "metadata": {
        "id": "VkspyplEZ4sR"
      },
      "source": [
        "As we have learned, the first step to utilizing a library is to  import it into our python script. We will import the `client` object from the `http` module."
      ]
    },
    {
      "cell_type": "code",
      "metadata": {
        "id": "UWFC3bYoYRlx"
      },
      "source": [
        "from http import client"
      ],
      "execution_count": 1,
      "outputs": []
    },
    {
      "cell_type": "markdown",
      "metadata": {
        "id": "FJsZPjpqaMnm"
      },
      "source": [
        "Next, we will attempt to create a connection to a host. For the purposes of this demonstration, we will connect to a Fake JSON Api provided to us by [typicode.](https://github.com/typicode)\n",
        "So, let's start by reviewing the [http.client documentation](https://docs.python.org/3/library/http.client.html) and creating a connection object."
      ]
    },
    {
      "cell_type": "code",
      "metadata": {
        "id": "vuasc-tmbAV-"
      },
      "source": [
        "from http import client\n",
        "\n",
        "# Per the documentation, we get a connection object by calling the HTTPConnection() or HTTPSConnection() methods,\n",
        "# with parameters for the address and port.\n",
        "cxn = client.HTTPSConnection('jsonplaceholder.typicode.com', 443)\n",
        "\n",
        "# Let's test our connection by making a HEAD request, validating the HTTP status code, and printing the response headers.\n",
        "cxn.request('HEAD', '/')\n",
        "\n",
        "response = cxn.getresponse()\n",
        "\n",
        "if response.status is 200:\n",
        "  print('Response:',response.status, '🎉🎉🎉', '\\n')\n",
        "else:\n",
        "  print('Uh Oh, got',response.status)\n",
        "\n",
        "print(response.headers)"
      ],
      "execution_count": null,
      "outputs": []
    },
    {
      "cell_type": "markdown",
      "metadata": {
        "id": "_qwpsJKreFSj"
      },
      "source": [
        "Awesome! A 200 status code means everything is g2g. For information about what the different status codes retured from HTTP Requests, [look here.](https://developer.mozilla.org/en-US/docs/Web/HTTP/Status) If you received anything other than a 200 Status code, try reloading the Notebook, ensuring you didn't accidentally make any changes."
      ]
    },
    {
      "cell_type": "markdown",
      "metadata": {
        "id": "1dr6bRGJfK5N"
      },
      "source": [
        "## JSON: The Language of APIs\n",
        "\n",
        "JSON (**J**ava**S**cript **O**bject **N**otation) is a messaging standard that was formalized in 2014 based on specifications of the JavaScript Standard introduced in 1999. In it's simplest form, it is an object containing a collection of `key` and `value` pairs. Values can be any primitive data types such as `boolean`, `integer`, `float`, or `string` but can also be nested `objects` or `arrays`.\n",
        "Almost every language provides an interface to be able to encode or decode JSON objects into a native format.\n",
        "\n",
        "In the case of python, we can decode JSON objects to `dictionaries`, and vice versa. See the example below:"
      ]
    },
    {
      "cell_type": "code",
      "metadata": {
        "id": "tB53-AfEg1sW",
        "outputId": "a2d4a6dd-49f1-4579-9693-ec815339f1d8",
        "colab": {
          "base_uri": "https://localhost:8080/"
        }
      },
      "source": [
        "import json\n",
        "\n",
        "#Given the following Dictionary\n",
        "#values = dict([('first_name', 'Homer'), ('last_name', 'Simpson'), ('city', 'Springfield'), ('occupation', 'Nuclear Technician')])\n",
        "\n",
        "values = {'first-name': 'Homer', 'last_name': 'Simpson', 'city': 'Springfield', 'occupation': 'Nuclear Technician', 'adjectives': {'0': 'fat', '1': 'lazy', '2': 'stupid'}}\n",
        "\n",
        "#print(values['adjectives']['1'])\n",
        "\n",
        "for index in values['adjectives']:\n",
        "  #print(index)\n",
        "  print(values['adjectives'][index])\n",
        "\n",
        "#We can convert a dictionary to using using the json.dumps() method\n",
        "#jsonObject = json.dumps(values)\n",
        "#print(jsonObject, '\\n')\n",
        "\n",
        "#Alternatively, given JSON, we can convert to a Dictionary object using the json.loads() method\n",
        "#dictionary = json.loads(jsonObject)\n",
        "#print(dictionary['first_name'], dictionary['last_name'])"
      ],
      "execution_count": null,
      "outputs": [
        {
          "output_type": "stream",
          "name": "stdout",
          "text": [
            "lazy\n",
            "fat\n",
            "lazy\n",
            "stupid\n"
          ]
        }
      ]
    },
    {
      "cell_type": "markdown",
      "metadata": {
        "id": "ceieILkVovku"
      },
      "source": [
        "Taking a look at the Documentation for the [fake API](https://jsonplaceholder.typicode.com/), it returns JSON objects for requests it receives. Let's try and combine what we've learned to get the Email Address of the User with ID 10."
      ]
    },
    {
      "cell_type": "code",
      "metadata": {
        "id": "F--Bluq4pY4j",
        "outputId": "876c9204-3cbe-4bcc-9431-9a0fd4d2c43a",
        "colab": {
          "base_uri": "https://localhost:8080/"
        }
      },
      "source": [
        "from http import client\n",
        "import json\n",
        "\n",
        "# Per the documentation, we get a connection object by calling the HTTPConnection() or HTTPSConnection() methods,\n",
        "# with parameters for the address and port.\n",
        "cxn = client.HTTPSConnection('jsonplaceholder.typicode.com', 443)\n",
        "\n",
        "# In order to make our request, we will need to modify the method from our previous example to a GET request for the resource at '/users/10'.\n",
        "# When you're ready, uncomment the method call below.\n",
        "cxn.request('GET', '/users/8')\n",
        "\n",
        "response = cxn.getresponse()\n",
        "if response.status is 200:\n",
        "  print('Response:',response.status, '🎉🎉🎉', '\\n')\n",
        "else:\n",
        "  print('Uh Oh, got',response.status)\n",
        "\n",
        "#If everything goes well, this should contain the JSON response from the API.\n",
        "jsonData = response.read().decode()\n",
        "print(jsonData)\n",
        "\n",
        "#Next, go ahead and convert the jsonData string to a Dictionary, and print the email address.\n",
        "#Look at the example above for some pointers on how to accomplish that.\n",
        "\n",
        "dictionary = json.loads(jsonData)\n",
        "print(dictionary['email'])"
      ],
      "execution_count": null,
      "outputs": [
        {
          "output_type": "stream",
          "name": "stdout",
          "text": [
            "Response: 200 🎉🎉🎉 \n",
            "\n",
            "{\n",
            "  \"id\": 8,\n",
            "  \"name\": \"Nicholas Runolfsdottir V\",\n",
            "  \"username\": \"Maxime_Nienow\",\n",
            "  \"email\": \"Sherwood@rosamond.me\",\n",
            "  \"address\": {\n",
            "    \"street\": \"Ellsworth Summit\",\n",
            "    \"suite\": \"Suite 729\",\n",
            "    \"city\": \"Aliyaview\",\n",
            "    \"zipcode\": \"45169\",\n",
            "    \"geo\": {\n",
            "      \"lat\": \"-14.3990\",\n",
            "      \"lng\": \"-120.7677\"\n",
            "    }\n",
            "  },\n",
            "  \"phone\": \"586.493.6943 x140\",\n",
            "  \"website\": \"jacynthe.com\",\n",
            "  \"company\": {\n",
            "    \"name\": \"Abernathy Group\",\n",
            "    \"catchPhrase\": \"Implemented secondary concept\",\n",
            "    \"bs\": \"e-enable extensible e-tailers\"\n",
            "  }\n",
            "}\n",
            "Sherwood@rosamond.me\n"
          ]
        }
      ]
    },
    {
      "cell_type": "markdown",
      "metadata": {
        "id": "pPObsy_av_Ic"
      },
      "source": [
        "## Lab Submission\n",
        "\n",
        "For your Lab Submission, you will create a script that accomplishes the following goals:\n",
        "\n",
        "1.   Review the Documentation for the [PokeApi](https://pokeapi.co/)\n",
        "2.   Make a GET request to the correct endpoint to get information about any Pokemon.\n",
        "3.   Convert that Data from a JSON object to a Dictionary\n",
        "4.   Using that Dictonary, craft a string that will provide the `name`, `weight` and list of names of `types`\n",
        "5. Make an HTTP POST request using the Provided PasteBin API key to upload your crafted string. If successful, you will receive the URL of the PasteBin Document in the response of the POST request.\n",
        "6. That Link, and the code within this Notebook, will be your submission.\n",
        "\n"
      ]
    },
    {
      "cell_type": "code",
      "metadata": {
        "id": "lZswmCEKyHj8",
        "outputId": "43a1b340-81f0-4d52-e1fe-ce0578771709",
        "colab": {
          "base_uri": "https://localhost:8080/"
        }
      },
      "source": [
        "from http import client\n",
        "import urllib\n",
        "import json\n",
        "\n",
        "#HINT: You may want to create two different HTTPSConnection() objects for each API.\n",
        "cxn = client.HTTPSConnection('pokeapi.co', 443)\n",
        "\n",
        "#Do everything like it's done in the previous example\n",
        "#but GET the info for a Pokemon from the Poke API\n",
        "cxn.request('GET', '/api/v2/pokemon/pikachu')\n",
        "\n",
        "response = cxn.getresponse()\n",
        "\n",
        "if response.status == 200:\n",
        "  print('Response:',response.status, '🎉🎉🎉', '\\n')\n",
        "else:\n",
        "  print('Uh Oh, got',response.status)\n",
        "\n",
        "pokeJson = response.read().decode()\n",
        "pokeDict = json.loads(pokeJson)\n",
        "\n",
        "for pokeType in pokeDict['moves']:\n",
        "  print(pokeType['move']['name'], \"\\n\")\n",
        "\n",
        "pasteBin = client.HTTPSConnection('pastebin.com', 443)\n",
        "\n",
        "#Refer to the documentation at https://pastebin.com/doc_api for instructions on these parameters\n",
        "requestParams = {\n",
        "    'api_dev_key': \"f4R0OTFza_qTQ1NZJYLjoCeLqoHQux4X\",\n",
        "    'api_option': 'paste',\n",
        "    'api_paste_code': None\n",
        "}\n",
        "\n",
        "#This additional Method call will convert the Dictionary to a URL-Encoded string for PasteBin,\n",
        "#Include this string as the body of your call to the HTTPConnection.request() method for your pasteBin connection.\n",
        "requestBody = urllib.parse.urlencode(requestParams)\n",
        "\n",
        "#Since we are URLEncoding the request Body, we need to tell Pastebin that it can expect x-www-form-urlencoded content, by adding this information to the request header\n",
        "pasteBinHeaders = {'Content-Type': 'application/x-www-form-urlencoded'}\n",
        "\n",
        "#When you are ready, you will pass the requestBody and the pasteBinHeaders to a pastebin request object, filling in the parameters as necessary.\n",
        "pasteBinRequest = pasteBin.request('POST', '/api/api_post.php', body = requestBody, headers = pasteBinHeaders)\n",
        "pasteBinResponse = pasteBinRequest.getresponse()\n",
        "\n",
        "\n",
        "\n"
      ],
      "execution_count": 24,
      "outputs": [
        {
          "output_type": "stream",
          "name": "stdout",
          "text": [
            "Response: 200 🎉🎉🎉 \n",
            "\n",
            "mega-punch \n",
            "\n",
            "pay-day \n",
            "\n",
            "thunder-punch \n",
            "\n",
            "slam \n",
            "\n",
            "double-kick \n",
            "\n",
            "mega-kick \n",
            "\n",
            "headbutt \n",
            "\n",
            "body-slam \n",
            "\n",
            "take-down \n",
            "\n",
            "double-edge \n",
            "\n",
            "tail-whip \n",
            "\n",
            "growl \n",
            "\n",
            "surf \n",
            "\n",
            "submission \n",
            "\n",
            "counter \n",
            "\n",
            "seismic-toss \n",
            "\n",
            "strength \n",
            "\n",
            "thunder-shock \n",
            "\n",
            "thunderbolt \n",
            "\n",
            "thunder-wave \n",
            "\n",
            "thunder \n",
            "\n",
            "dig \n",
            "\n",
            "toxic \n",
            "\n",
            "agility \n",
            "\n",
            "quick-attack \n",
            "\n",
            "rage \n",
            "\n",
            "mimic \n",
            "\n",
            "double-team \n",
            "\n",
            "defense-curl \n",
            "\n",
            "light-screen \n",
            "\n",
            "reflect \n",
            "\n",
            "bide \n",
            "\n",
            "swift \n",
            "\n",
            "skull-bash \n",
            "\n",
            "flash \n",
            "\n",
            "rest \n",
            "\n",
            "substitute \n",
            "\n",
            "thief \n",
            "\n",
            "snore \n",
            "\n",
            "curse \n",
            "\n",
            "reversal \n",
            "\n",
            "protect \n",
            "\n",
            "sweet-kiss \n",
            "\n",
            "mud-slap \n",
            "\n",
            "zap-cannon \n",
            "\n",
            "detect \n",
            "\n",
            "endure \n",
            "\n",
            "charm \n",
            "\n",
            "rollout \n",
            "\n",
            "swagger \n",
            "\n",
            "spark \n",
            "\n",
            "attract \n",
            "\n",
            "sleep-talk \n",
            "\n",
            "return \n",
            "\n",
            "frustration \n",
            "\n",
            "dynamic-punch \n",
            "\n",
            "encore \n",
            "\n",
            "iron-tail \n",
            "\n",
            "hidden-power \n",
            "\n",
            "rain-dance \n",
            "\n",
            "rock-smash \n",
            "\n",
            "uproar \n",
            "\n",
            "facade \n",
            "\n",
            "focus-punch \n",
            "\n",
            "helping-hand \n",
            "\n",
            "brick-break \n",
            "\n",
            "knock-off \n",
            "\n",
            "secret-power \n",
            "\n",
            "signal-beam \n",
            "\n",
            "covet \n",
            "\n",
            "volt-tackle \n",
            "\n",
            "calm-mind \n",
            "\n",
            "shock-wave \n",
            "\n",
            "natural-gift \n",
            "\n",
            "feint \n",
            "\n",
            "fling \n",
            "\n",
            "magnet-rise \n",
            "\n",
            "nasty-plot \n",
            "\n",
            "discharge \n",
            "\n",
            "captivate \n",
            "\n",
            "grass-knot \n",
            "\n",
            "charge-beam \n",
            "\n",
            "electro-ball \n",
            "\n",
            "round \n",
            "\n",
            "echoed-voice \n",
            "\n",
            "volt-switch \n",
            "\n",
            "electroweb \n",
            "\n",
            "wild-charge \n",
            "\n",
            "draining-kiss \n",
            "\n",
            "play-rough \n",
            "\n",
            "play-nice \n",
            "\n",
            "confide \n",
            "\n",
            "electric-terrain \n",
            "\n",
            "nuzzle \n",
            "\n",
            "laser-focus \n",
            "\n",
            "rising-voltage \n",
            "\n"
          ]
        }
      ]
    }
  ]
}